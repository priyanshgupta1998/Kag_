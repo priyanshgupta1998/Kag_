{
  "nbformat": 4,
  "nbformat_minor": 0,
  "metadata": {
    "colab": {
      "name": "TensorFlow with GPU",
      "version": "0.3.2",
      "provenance": [],
      "collapsed_sections": [],
      "include_colab_link": true
    },
    "kernelspec": {
      "name": "python3",
      "display_name": "Python 3"
    },
    "accelerator": "GPU"
  },
  "cells": [
    {
      "cell_type": "markdown",
      "metadata": {
        "id": "view-in-github",
        "colab_type": "text"
      },
      "source": [
        "<a href=\"https://colab.research.google.com/github/priyanshgupta1998/Kag_/blob/master/Gas_Sensor_Array_Drift_Dataset_at_Different_Concentrations.ipynb\" target=\"_parent\"><img src=\"https://colab.research.google.com/assets/colab-badge.svg\" alt=\"Open In Colab\"/></a>"
      ]
    },
    {
      "cell_type": "code",
      "metadata": {
        "id": "AOgLoandSGRN",
        "colab_type": "code",
        "colab": {}
      },
      "source": [
        ""
      ],
      "execution_count": 0,
      "outputs": []
    },
    {
      "cell_type": "markdown",
      "metadata": {
        "id": "ydFC5rYMSWsZ",
        "colab_type": "text"
      },
      "source": [
        "#"
      ]
    },
    {
      "cell_type": "markdown",
      "metadata": {
        "id": "-m0yc08xg1Zm",
        "colab_type": "text"
      },
      "source": [
        "#Gas Sensor Array Drift Dataset at Different Concentrations"
      ]
    },
    {
      "cell_type": "markdown",
      "metadata": {
        "id": "0WHzwuYvdyyl",
        "colab_type": "text"
      },
      "source": [
        "\n",
        "\n",
        "https://archive.ics.uci.edu/ml/datasets/Gas+Sensor+Array+Drift+Dataset+at+Different+Concentrations\n",
        "\n",
        "https://www.kaggle.com/jihyeseo/regression-no-missing-val-data-delim-whitespace"
      ]
    },
    {
      "cell_type": "code",
      "metadata": {
        "id": "BAnBVjD3Qx3K",
        "colab_type": "code",
        "colab": {
          "base_uri": "https://localhost:8080/",
          "height": 204
        },
        "outputId": "dede9980-757d-4409-cdce-2dc8d6dbeb0d"
      },
      "source": [
        "!wget https://archive.ics.uci.edu/ml/machine-learning-databases/00270/driftdataset.zip"
      ],
      "execution_count": 1,
      "outputs": [
        {
          "output_type": "stream",
          "text": [
            "--2019-05-29 12:11:26--  https://archive.ics.uci.edu/ml/machine-learning-databases/00270/driftdataset.zip\n",
            "Resolving archive.ics.uci.edu (archive.ics.uci.edu)... 128.195.10.252\n",
            "Connecting to archive.ics.uci.edu (archive.ics.uci.edu)|128.195.10.252|:443... connected.\n",
            "HTTP request sent, awaiting response... 200 OK\n",
            "Length: 10118308 (9.6M) [application/x-httpd-php]\n",
            "Saving to: ‘driftdataset.zip’\n",
            "\n",
            "driftdataset.zip    100%[===================>]   9.65M  7.04MB/s    in 1.4s    \n",
            "\n",
            "2019-05-29 12:11:30 (7.04 MB/s) - ‘driftdataset.zip’ saved [10118308/10118308]\n",
            "\n"
          ],
          "name": "stdout"
        }
      ]
    },
    {
      "cell_type": "code",
      "metadata": {
        "id": "krFP1HnOgLVg",
        "colab_type": "code",
        "colab": {
          "base_uri": "https://localhost:8080/",
          "height": 204
        },
        "outputId": "d1418e65-7cd8-4655-c84a-2cdfc4e72d13"
      },
      "source": [
        "!unzip driftdataset.zip"
      ],
      "execution_count": 2,
      "outputs": [
        {
          "output_type": "stream",
          "text": [
            "Archive:  driftdataset.zip\n",
            "  inflating: batch10.dat             \n",
            "  inflating: batch9.dat              \n",
            "  inflating: batch8.dat              \n",
            "  inflating: batch7.dat              \n",
            "  inflating: batch6.dat              \n",
            "  inflating: batch5.dat              \n",
            "  inflating: batch4.dat              \n",
            "  inflating: batch3.dat              \n",
            "  inflating: batch2.dat              \n",
            "  inflating: batch1.dat              \n"
          ],
          "name": "stdout"
        }
      ]
    },
    {
      "cell_type": "code",
      "metadata": {
        "id": "eB8puTnWQx_Z",
        "colab_type": "code",
        "colab": {}
      },
      "source": [
        "import pandas as pd"
      ],
      "execution_count": 0,
      "outputs": []
    },
    {
      "cell_type": "code",
      "metadata": {
        "id": "bUJOr52wXDJM",
        "colab_type": "code",
        "colab": {
          "base_uri": "https://localhost:8080/",
          "height": 287
        },
        "outputId": "98f2725d-f71c-4298-ed47-92d1abfa377a"
      },
      "source": [
        "batch_1 = pd.read_csv('batch1.dat' , delimiter=' ')\n",
        "print(batch_1.shape)\n",
        "batch_1.head()"
      ],
      "execution_count": 15,
      "outputs": [
        {
          "output_type": "stream",
          "text": [
            "(444, 130)\n"
          ],
          "name": "stdout"
        },
        {
          "output_type": "execute_result",
          "data": {
            "text/html": [
              "<div>\n",
              "<style scoped>\n",
              "    .dataframe tbody tr th:only-of-type {\n",
              "        vertical-align: middle;\n",
              "    }\n",
              "\n",
              "    .dataframe tbody tr th {\n",
              "        vertical-align: top;\n",
              "    }\n",
              "\n",
              "    .dataframe thead th {\n",
              "        text-align: right;\n",
              "    }\n",
              "</style>\n",
              "<table border=\"1\" class=\"dataframe\">\n",
              "  <thead>\n",
              "    <tr style=\"text-align: right;\">\n",
              "      <th></th>\n",
              "      <th>1;10.000000</th>\n",
              "      <th>1:15596.162100</th>\n",
              "      <th>2:1.868245</th>\n",
              "      <th>3:2.371604</th>\n",
              "      <th>4:2.803678</th>\n",
              "      <th>5:7.512213</th>\n",
              "      <th>6:-2.739388</th>\n",
              "      <th>7:-3.344671</th>\n",
              "      <th>8:-4.847512</th>\n",
              "      <th>9:15326.691400</th>\n",
              "      <th>10:1.768526</th>\n",
              "      <th>11:2.269085</th>\n",
              "      <th>12:2.713374</th>\n",
              "      <th>13:6.915721</th>\n",
              "      <th>14:-2.488324</th>\n",
              "      <th>15:-3.082212</th>\n",
              "      <th>16:-5.056975</th>\n",
              "      <th>17:2789.383100</th>\n",
              "      <th>18:2.754759</th>\n",
              "      <th>19:0.430440</th>\n",
              "      <th>20:0.649457</th>\n",
              "      <th>21:1.795029</th>\n",
              "      <th>22:-0.426662</th>\n",
              "      <th>23:-0.584313</th>\n",
              "      <th>24:-1.438976</th>\n",
              "      <th>25:2581.568600</th>\n",
              "      <th>26:2.680623</th>\n",
              "      <th>27:0.399746</th>\n",
              "      <th>28:0.605065</th>\n",
              "      <th>29:1.786704</th>\n",
              "      <th>30:-0.400115</th>\n",
              "      <th>31:-0.550743</th>\n",
              "      <th>32:-1.728611</th>\n",
              "      <th>33:685.399400</th>\n",
              "      <th>34:1.682904</th>\n",
              "      <th>35:0.122736</th>\n",
              "      <th>36:0.223703</th>\n",
              "      <th>37:0.584691</th>\n",
              "      <th>38:-0.138196</th>\n",
              "      <th>39:-0.236907</th>\n",
              "      <th>...</th>\n",
              "      <th>90:2.949381</th>\n",
              "      <th>91:0.342575</th>\n",
              "      <th>92:0.515090</th>\n",
              "      <th>93:1.340477</th>\n",
              "      <th>94:-0.361030</th>\n",
              "      <th>95:-0.493482</th>\n",
              "      <th>96:-1.200617</th>\n",
              "      <th>97:862.747900</th>\n",
              "      <th>98:1.779291</th>\n",
              "      <th>99:0.165138</th>\n",
              "      <th>100:0.246473</th>\n",
              "      <th>101:1.358106</th>\n",
              "      <th>102:-0.187465</th>\n",
              "      <th>103:-0.416382</th>\n",
              "      <th>104:-1.058061</th>\n",
              "      <th>105:1059.756200</th>\n",
              "      <th>106:1.896047</th>\n",
              "      <th>107:0.198946</th>\n",
              "      <th>108:0.334017</th>\n",
              "      <th>109:0.815048</th>\n",
              "      <th>110:-0.204467</th>\n",
              "      <th>111:-0.345119</th>\n",
              "      <th>112:-0.969336</th>\n",
              "      <th>113:3357.112400</th>\n",
              "      <th>114:3.860647</th>\n",
              "      <th>115:0.580818</th>\n",
              "      <th>116:0.806830</th>\n",
              "      <th>117:1.729739</th>\n",
              "      <th>118:-0.619214</th>\n",
              "      <th>119:-1.071137</th>\n",
              "      <th>120:-3.037772</th>\n",
              "      <th>121:3037.039000</th>\n",
              "      <th>122:3.972203</th>\n",
              "      <th>123:0.527291</th>\n",
              "      <th>124:0.728443</th>\n",
              "      <th>125:1.445783</th>\n",
              "      <th>126:-0.545079</th>\n",
              "      <th>127:-0.902241</th>\n",
              "      <th>128:-2.654529</th>\n",
              "      <th>Unnamed: 129</th>\n",
              "    </tr>\n",
              "  </thead>\n",
              "  <tbody>\n",
              "    <tr>\n",
              "      <th>0</th>\n",
              "      <td>1;20.000000</td>\n",
              "      <td>1:26402.070400</td>\n",
              "      <td>2:2.532401</td>\n",
              "      <td>3:5.411209</td>\n",
              "      <td>4:6.509906</td>\n",
              "      <td>5:7.658469</td>\n",
              "      <td>6:-4.722217</td>\n",
              "      <td>7:-5.817651</td>\n",
              "      <td>8:-7.518333</td>\n",
              "      <td>9:23855.781200</td>\n",
              "      <td>10:2.164706</td>\n",
              "      <td>11:4.901063</td>\n",
              "      <td>12:5.971392</td>\n",
              "      <td>13:6.978131</td>\n",
              "      <td>14:-4.199424</td>\n",
              "      <td>15:-5.221090</td>\n",
              "      <td>16:-7.604863</td>\n",
              "      <td>17:3882.905700</td>\n",
              "      <td>18:3.155054</td>\n",
              "      <td>19:0.802987</td>\n",
              "      <td>20:1.172245</td>\n",
              "      <td>21:1.570895</td>\n",
              "      <td>22:-0.697881</td>\n",
              "      <td>23:-0.944655</td>\n",
              "      <td>24:-1.334743</td>\n",
              "      <td>25:3651.042700</td>\n",
              "      <td>26:3.130669</td>\n",
              "      <td>27:0.739278</td>\n",
              "      <td>28:1.101765</td>\n",
              "      <td>29:1.428631</td>\n",
              "      <td>30:-0.659641</td>\n",
              "      <td>31:-0.915543</td>\n",
              "      <td>32:-1.334217</td>\n",
              "      <td>33:982.949000</td>\n",
              "      <td>34:1.933877</td>\n",
              "      <td>35:0.233308</td>\n",
              "      <td>36:0.378052</td>\n",
              "      <td>37:0.717916</td>\n",
              "      <td>38:-0.225572</td>\n",
              "      <td>39:-0.354591</td>\n",
              "      <td>...</td>\n",
              "      <td>90:3.399659</td>\n",
              "      <td>91:0.649639</td>\n",
              "      <td>92:0.948781</td>\n",
              "      <td>93:1.369550</td>\n",
              "      <td>94:-0.598444</td>\n",
              "      <td>95:-0.820868</td>\n",
              "      <td>96:-1.081919</td>\n",
              "      <td>97:1237.013100</td>\n",
              "      <td>98:2.067927</td>\n",
              "      <td>99:0.305793</td>\n",
              "      <td>100:0.558008</td>\n",
              "      <td>101:0.948564</td>\n",
              "      <td>102:-0.289557</td>\n",
              "      <td>103:-0.501078</td>\n",
              "      <td>104:-1.191404</td>\n",
              "      <td>105:1459.635600</td>\n",
              "      <td>106:2.149242</td>\n",
              "      <td>107:0.361007</td>\n",
              "      <td>108:0.614619</td>\n",
              "      <td>109:0.950204</td>\n",
              "      <td>110:-0.327339</td>\n",
              "      <td>111:-0.503861</td>\n",
              "      <td>112:-0.838039</td>\n",
              "      <td>113:4685.775300</td>\n",
              "      <td>114:4.277604</td>\n",
              "      <td>115:1.080629</td>\n",
              "      <td>116:1.818559</td>\n",
              "      <td>117:2.237534</td>\n",
              "      <td>118:-1.004812</td>\n",
              "      <td>119:-1.530519</td>\n",
              "      <td>120:-1.994993</td>\n",
              "      <td>121:4176.445300</td>\n",
              "      <td>122:4.281373</td>\n",
              "      <td>123:0.980205</td>\n",
              "      <td>124:1.628050</td>\n",
              "      <td>125:1.951172</td>\n",
              "      <td>126:-0.889333</td>\n",
              "      <td>127:-1.323505</td>\n",
              "      <td>128:-1.749225</td>\n",
              "      <td>NaN</td>\n",
              "    </tr>\n",
              "    <tr>\n",
              "      <th>1</th>\n",
              "      <td>1;30.000000</td>\n",
              "      <td>1:42103.582000</td>\n",
              "      <td>2:3.454189</td>\n",
              "      <td>3:8.198175</td>\n",
              "      <td>4:10.508439</td>\n",
              "      <td>5:11.611003</td>\n",
              "      <td>6:-7.668313</td>\n",
              "      <td>7:-9.478675</td>\n",
              "      <td>8:-12.230939</td>\n",
              "      <td>9:37562.300800</td>\n",
              "      <td>10:2.840403</td>\n",
              "      <td>11:7.386357</td>\n",
              "      <td>12:9.511703</td>\n",
              "      <td>13:12.129657</td>\n",
              "      <td>14:-6.689464</td>\n",
              "      <td>15:-8.184333</td>\n",
              "      <td>16:-10.196169</td>\n",
              "      <td>17:5476.389800</td>\n",
              "      <td>18:3.929721</td>\n",
              "      <td>19:1.132118</td>\n",
              "      <td>20:1.717418</td>\n",
              "      <td>21:2.050157</td>\n",
              "      <td>22:-1.052941</td>\n",
              "      <td>23:-1.436270</td>\n",
              "      <td>24:-1.956262</td>\n",
              "      <td>25:5140.830200</td>\n",
              "      <td>26:3.880357</td>\n",
              "      <td>27:1.054304</td>\n",
              "      <td>28:1.649600</td>\n",
              "      <td>29:1.964727</td>\n",
              "      <td>30:-0.995282</td>\n",
              "      <td>31:-1.377502</td>\n",
              "      <td>32:-1.844021</td>\n",
              "      <td>33:1409.218300</td>\n",
              "      <td>34:2.316449</td>\n",
              "      <td>35:0.335154</td>\n",
              "      <td>36:0.572576</td>\n",
              "      <td>37:0.932730</td>\n",
              "      <td>38:-0.337312</td>\n",
              "      <td>39:-0.532147</td>\n",
              "      <td>...</td>\n",
              "      <td>90:4.286887</td>\n",
              "      <td>91:0.917809</td>\n",
              "      <td>92:1.390353</td>\n",
              "      <td>93:1.810937</td>\n",
              "      <td>94:-0.909467</td>\n",
              "      <td>95:-1.254904</td>\n",
              "      <td>96:-1.732933</td>\n",
              "      <td>97:1735.038300</td>\n",
              "      <td>98:2.466508</td>\n",
              "      <td>99:0.450574</td>\n",
              "      <td>100:0.841068</td>\n",
              "      <td>101:1.808291</td>\n",
              "      <td>102:-0.426742</td>\n",
              "      <td>103:-0.711579</td>\n",
              "      <td>104:-1.129027</td>\n",
              "      <td>105:2040.152800</td>\n",
              "      <td>106:2.572696</td>\n",
              "      <td>107:0.509803</td>\n",
              "      <td>108:0.932630</td>\n",
              "      <td>109:1.248513</td>\n",
              "      <td>110:-0.475471</td>\n",
              "      <td>111:-0.730332</td>\n",
              "      <td>112:-1.126488</td>\n",
              "      <td>113:6630.183600</td>\n",
              "      <td>114:5.369827</td>\n",
              "      <td>115:1.567405</td>\n",
              "      <td>116:2.790448</td>\n",
              "      <td>117:3.279244</td>\n",
              "      <td>118:-1.518135</td>\n",
              "      <td>119:-2.384784</td>\n",
              "      <td>120:-2.867291</td>\n",
              "      <td>121:5914.668500</td>\n",
              "      <td>122:5.396827</td>\n",
              "      <td>123:1.403973</td>\n",
              "      <td>124:2.476956</td>\n",
              "      <td>125:3.039841</td>\n",
              "      <td>126:-1.334558</td>\n",
              "      <td>127:-1.993659</td>\n",
              "      <td>128:-2.348370</td>\n",
              "      <td>NaN</td>\n",
              "    </tr>\n",
              "    <tr>\n",
              "      <th>2</th>\n",
              "      <td>1;40.000000</td>\n",
              "      <td>1:42825.988300</td>\n",
              "      <td>2:3.451192</td>\n",
              "      <td>3:12.113940</td>\n",
              "      <td>4:16.266853</td>\n",
              "      <td>5:39.910056</td>\n",
              "      <td>6:-7.849409</td>\n",
              "      <td>7:-9.689894</td>\n",
              "      <td>8:-11.921704</td>\n",
              "      <td>9:38379.066400</td>\n",
              "      <td>10:2.851173</td>\n",
              "      <td>11:10.840889</td>\n",
              "      <td>12:14.566782</td>\n",
              "      <td>13:39.100492</td>\n",
              "      <td>14:-6.878915</td>\n",
              "      <td>15:-8.470092</td>\n",
              "      <td>16:-10.739835</td>\n",
              "      <td>17:5670.714400</td>\n",
              "      <td>18:3.994661</td>\n",
              "      <td>19:1.587322</td>\n",
              "      <td>20:2.963585</td>\n",
              "      <td>21:2.889819</td>\n",
              "      <td>22:-1.116192</td>\n",
              "      <td>23:-1.504534</td>\n",
              "      <td>24:-2.159710</td>\n",
              "      <td>25:5343.833700</td>\n",
              "      <td>26:3.962529</td>\n",
              "      <td>27:1.479765</td>\n",
              "      <td>28:2.653653</td>\n",
              "      <td>29:2.753598</td>\n",
              "      <td>30:-1.061584</td>\n",
              "      <td>31:-1.465905</td>\n",
              "      <td>32:-2.027846</td>\n",
              "      <td>33:1499.398700</td>\n",
              "      <td>34:2.415714</td>\n",
              "      <td>35:0.476230</td>\n",
              "      <td>36:0.834066</td>\n",
              "      <td>37:1.316245</td>\n",
              "      <td>38:-0.373295</td>\n",
              "      <td>39:-0.562486</td>\n",
              "      <td>...</td>\n",
              "      <td>90:4.382205</td>\n",
              "      <td>91:1.298156</td>\n",
              "      <td>92:2.334433</td>\n",
              "      <td>93:2.427754</td>\n",
              "      <td>94:-0.964750</td>\n",
              "      <td>95:-1.315083</td>\n",
              "      <td>96:-1.575122</td>\n",
              "      <td>97:1837.055100</td>\n",
              "      <td>98:2.560248</td>\n",
              "      <td>99:0.626115</td>\n",
              "      <td>100:1.226975</td>\n",
              "      <td>101:1.828968</td>\n",
              "      <td>102:-0.463871</td>\n",
              "      <td>103:-0.785627</td>\n",
              "      <td>104:-1.249903</td>\n",
              "      <td>105:2144.843600</td>\n",
              "      <td>106:2.660842</td>\n",
              "      <td>107:0.714324</td>\n",
              "      <td>108:1.322181</td>\n",
              "      <td>109:1.883925</td>\n",
              "      <td>110:-0.513716</td>\n",
              "      <td>111:-0.777995</td>\n",
              "      <td>112:-1.134804</td>\n",
              "      <td>113:6933.284400</td>\n",
              "      <td>114:5.507270</td>\n",
              "      <td>115:2.215701</td>\n",
              "      <td>116:4.042550</td>\n",
              "      <td>117:4.675110</td>\n",
              "      <td>118:-1.644751</td>\n",
              "      <td>119:-2.607199</td>\n",
              "      <td>120:-3.058086</td>\n",
              "      <td>121:6147.474400</td>\n",
              "      <td>122:5.501071</td>\n",
              "      <td>123:1.981933</td>\n",
              "      <td>124:3.569823</td>\n",
              "      <td>125:4.049197</td>\n",
              "      <td>126:-1.432205</td>\n",
              "      <td>127:-2.146158</td>\n",
              "      <td>128:-2.488957</td>\n",
              "      <td>NaN</td>\n",
              "    </tr>\n",
              "    <tr>\n",
              "      <th>3</th>\n",
              "      <td>1;50.000000</td>\n",
              "      <td>1:58151.175700</td>\n",
              "      <td>2:4.194839</td>\n",
              "      <td>3:11.455096</td>\n",
              "      <td>4:15.715298</td>\n",
              "      <td>5:17.654915</td>\n",
              "      <td>6:-11.083364</td>\n",
              "      <td>7:-13.580692</td>\n",
              "      <td>8:-16.407848</td>\n",
              "      <td>9:51975.589900</td>\n",
              "      <td>10:3.480866</td>\n",
              "      <td>11:10.409176</td>\n",
              "      <td>12:14.379885</td>\n",
              "      <td>13:15.387529</td>\n",
              "      <td>14:-9.543570</td>\n",
              "      <td>15:-11.707853</td>\n",
              "      <td>16:-14.370753</td>\n",
              "      <td>17:7483.365600</td>\n",
              "      <td>18:5.074172</td>\n",
              "      <td>19:1.576100</td>\n",
              "      <td>20:2.558010</td>\n",
              "      <td>21:3.389052</td>\n",
              "      <td>22:-1.515863</td>\n",
              "      <td>23:-2.059119</td>\n",
              "      <td>24:-2.494956</td>\n",
              "      <td>25:6995.239600</td>\n",
              "      <td>26:4.995555</td>\n",
              "      <td>27:1.474554</td>\n",
              "      <td>28:2.500523</td>\n",
              "      <td>29:2.981684</td>\n",
              "      <td>30:-1.436586</td>\n",
              "      <td>31:-2.006992</td>\n",
              "      <td>32:-2.424730</td>\n",
              "      <td>33:1976.101100</td>\n",
              "      <td>34:2.893531</td>\n",
              "      <td>35:0.480052</td>\n",
              "      <td>36:0.871868</td>\n",
              "      <td>37:1.301642</td>\n",
              "      <td>38:-0.487181</td>\n",
              "      <td>39:-0.753798</td>\n",
              "      <td>...</td>\n",
              "      <td>90:5.642596</td>\n",
              "      <td>91:1.293397</td>\n",
              "      <td>92:2.071232</td>\n",
              "      <td>93:2.683706</td>\n",
              "      <td>94:-1.316635</td>\n",
              "      <td>95:-1.798607</td>\n",
              "      <td>96:-3.026084</td>\n",
              "      <td>97:2388.189100</td>\n",
              "      <td>98:3.067174</td>\n",
              "      <td>99:0.632552</td>\n",
              "      <td>100:1.322201</td>\n",
              "      <td>101:1.666461</td>\n",
              "      <td>102:-0.611909</td>\n",
              "      <td>103:-1.018826</td>\n",
              "      <td>104:-1.770461</td>\n",
              "      <td>105:2784.495200</td>\n",
              "      <td>106:3.196657</td>\n",
              "      <td>107:0.716810</td>\n",
              "      <td>108:1.419936</td>\n",
              "      <td>109:1.845668</td>\n",
              "      <td>110:-0.663462</td>\n",
              "      <td>111:-1.022919</td>\n",
              "      <td>112:-1.602759</td>\n",
              "      <td>113:9179.233800</td>\n",
              "      <td>114:7.214645</td>\n",
              "      <td>115:2.236090</td>\n",
              "      <td>116:4.367815</td>\n",
              "      <td>117:4.946454</td>\n",
              "      <td>118:-2.249702</td>\n",
              "      <td>119:-3.594763</td>\n",
              "      <td>120:-4.181920</td>\n",
              "      <td>121:8158.644900</td>\n",
              "      <td>122:7.174334</td>\n",
              "      <td>123:1.993808</td>\n",
              "      <td>124:3.829303</td>\n",
              "      <td>125:4.402448</td>\n",
              "      <td>126:-1.930107</td>\n",
              "      <td>127:-2.931265</td>\n",
              "      <td>128:-4.088756</td>\n",
              "      <td>NaN</td>\n",
              "    </tr>\n",
              "    <tr>\n",
              "      <th>4</th>\n",
              "      <td>1;75.000000</td>\n",
              "      <td>1:79872.130800</td>\n",
              "      <td>2:5.553595</td>\n",
              "      <td>3:18.690482</td>\n",
              "      <td>4:27.191770</td>\n",
              "      <td>5:28.636972</td>\n",
              "      <td>6:-15.054684</td>\n",
              "      <td>7:-18.399695</td>\n",
              "      <td>8:-23.376017</td>\n",
              "      <td>9:69637.275400</td>\n",
              "      <td>10:4.365858</td>\n",
              "      <td>11:16.623774</td>\n",
              "      <td>12:24.791658</td>\n",
              "      <td>13:25.989573</td>\n",
              "      <td>14:-12.828155</td>\n",
              "      <td>15:-16.549555</td>\n",
              "      <td>16:-20.112821</td>\n",
              "      <td>17:9835.117400</td>\n",
              "      <td>18:6.299183</td>\n",
              "      <td>19:2.389469</td>\n",
              "      <td>20:3.796117</td>\n",
              "      <td>21:4.288415</td>\n",
              "      <td>22:-2.118118</td>\n",
              "      <td>23:-2.906302</td>\n",
              "      <td>24:-3.433935</td>\n",
              "      <td>25:9255.417900</td>\n",
              "      <td>26:6.238049</td>\n",
              "      <td>27:2.230755</td>\n",
              "      <td>28:3.689638</td>\n",
              "      <td>29:4.090581</td>\n",
              "      <td>30:-1.998723</td>\n",
              "      <td>31:-2.807461</td>\n",
              "      <td>32:-3.392109</td>\n",
              "      <td>33:2606.036900</td>\n",
              "      <td>34:3.490512</td>\n",
              "      <td>35:0.716663</td>\n",
              "      <td>36:1.241189</td>\n",
              "      <td>37:1.659610</td>\n",
              "      <td>38:-0.671591</td>\n",
              "      <td>39:-1.043806</td>\n",
              "      <td>...</td>\n",
              "      <td>90:7.032801</td>\n",
              "      <td>91:1.976083</td>\n",
              "      <td>92:3.034488</td>\n",
              "      <td>93:3.526779</td>\n",
              "      <td>94:-1.835185</td>\n",
              "      <td>95:-2.530747</td>\n",
              "      <td>96:-2.897946</td>\n",
              "      <td>97:3135.239900</td>\n",
              "      <td>98:3.698660</td>\n",
              "      <td>99:0.922801</td>\n",
              "      <td>100:1.939194</td>\n",
              "      <td>101:2.566183</td>\n",
              "      <td>102:-0.824276</td>\n",
              "      <td>103:-1.407632</td>\n",
              "      <td>104:-1.863665</td>\n",
              "      <td>105:3581.241900</td>\n",
              "      <td>106:3.801432</td>\n",
              "      <td>107:1.030426</td>\n",
              "      <td>108:1.994314</td>\n",
              "      <td>109:2.499493</td>\n",
              "      <td>110:-0.898174</td>\n",
              "      <td>111:-1.406994</td>\n",
              "      <td>112:-1.944686</td>\n",
              "      <td>113:12317.599000</td>\n",
              "      <td>114:9.126387</td>\n",
              "      <td>115:3.407953</td>\n",
              "      <td>116:6.431166</td>\n",
              "      <td>117:7.407149</td>\n",
              "      <td>118:-3.151739</td>\n",
              "      <td>119:-5.092170</td>\n",
              "      <td>120:-5.657237</td>\n",
              "      <td>121:10731.963200</td>\n",
              "      <td>122:8.900291</td>\n",
              "      <td>123:3.002584</td>\n",
              "      <td>124:5.620025</td>\n",
              "      <td>125:6.530042</td>\n",
              "      <td>126:-2.688513</td>\n",
              "      <td>127:-4.173558</td>\n",
              "      <td>128:-4.808914</td>\n",
              "      <td>NaN</td>\n",
              "    </tr>\n",
              "  </tbody>\n",
              "</table>\n",
              "<p>5 rows × 130 columns</p>\n",
              "</div>"
            ],
            "text/plain": [
              "   1;10.000000  1:15596.162100  ...  128:-2.654529 Unnamed: 129\n",
              "0  1;20.000000  1:26402.070400  ...  128:-1.749225          NaN\n",
              "1  1;30.000000  1:42103.582000  ...  128:-2.348370          NaN\n",
              "2  1;40.000000  1:42825.988300  ...  128:-2.488957          NaN\n",
              "3  1;50.000000  1:58151.175700  ...  128:-4.088756          NaN\n",
              "4  1;75.000000  1:79872.130800  ...  128:-4.808914          NaN\n",
              "\n",
              "[5 rows x 130 columns]"
            ]
          },
          "metadata": {
            "tags": []
          },
          "execution_count": 15
        }
      ]
    },
    {
      "cell_type": "code",
      "metadata": {
        "id": "lVUtK79WZOB0",
        "colab_type": "code",
        "colab": {
          "base_uri": "https://localhost:8080/",
          "height": 102
        },
        "outputId": "c121145f-f3d3-46da-df01-0cced6e3449a"
      },
      "source": [
        "# batch_1.info('All')\n",
        "batch_1.info()"
      ],
      "execution_count": 12,
      "outputs": [
        {
          "output_type": "stream",
          "text": [
            "<class 'pandas.core.frame.DataFrame'>\n",
            "RangeIndex: 444 entries, 0 to 443\n",
            "Columns: 130 entries, 1;10.000000 to Unnamed: 129\n",
            "dtypes: float64(1), object(129)\n",
            "memory usage: 451.0+ KB\n"
          ],
          "name": "stdout"
        }
      ]
    },
    {
      "cell_type": "code",
      "metadata": {
        "id": "sgsUT5fnXDZV",
        "colab_type": "code",
        "colab": {}
      },
      "source": [
        ""
      ],
      "execution_count": 0,
      "outputs": []
    },
    {
      "cell_type": "code",
      "metadata": {
        "id": "tn1nTfBhXDcj",
        "colab_type": "code",
        "colab": {}
      },
      "source": [
        ""
      ],
      "execution_count": 0,
      "outputs": []
    },
    {
      "cell_type": "code",
      "metadata": {
        "id": "E4A4dgG7XDgT",
        "colab_type": "code",
        "colab": {}
      },
      "source": [
        ""
      ],
      "execution_count": 0,
      "outputs": []
    },
    {
      "cell_type": "code",
      "metadata": {
        "id": "AxIsJdiwXDml",
        "colab_type": "code",
        "colab": {}
      },
      "source": [
        ""
      ],
      "execution_count": 0,
      "outputs": []
    },
    {
      "cell_type": "code",
      "metadata": {
        "id": "0HuE7kEDXDk_",
        "colab_type": "code",
        "colab": {}
      },
      "source": [
        ""
      ],
      "execution_count": 0,
      "outputs": []
    },
    {
      "cell_type": "code",
      "metadata": {
        "id": "KjYz7as_XDjk",
        "colab_type": "code",
        "colab": {}
      },
      "source": [
        ""
      ],
      "execution_count": 0,
      "outputs": []
    },
    {
      "cell_type": "code",
      "metadata": {
        "id": "9DOKVPv5XDRO",
        "colab_type": "code",
        "colab": {}
      },
      "source": [
        ""
      ],
      "execution_count": 0,
      "outputs": []
    },
    {
      "cell_type": "code",
      "metadata": {
        "id": "yGF9rG0hXDLy",
        "colab_type": "code",
        "colab": {}
      },
      "source": [
        ""
      ],
      "execution_count": 0,
      "outputs": []
    },
    {
      "cell_type": "code",
      "metadata": {
        "id": "-OONK4QFemAv",
        "colab_type": "code",
        "colab": {}
      },
      "source": [
        ""
      ],
      "execution_count": 0,
      "outputs": []
    },
    {
      "cell_type": "code",
      "metadata": {
        "id": "6bS9Sr9WemIw",
        "colab_type": "code",
        "colab": {}
      },
      "source": [
        ""
      ],
      "execution_count": 0,
      "outputs": []
    },
    {
      "cell_type": "code",
      "metadata": {
        "id": "TrQsYwjjemUm",
        "colab_type": "code",
        "colab": {}
      },
      "source": [
        ""
      ],
      "execution_count": 0,
      "outputs": []
    },
    {
      "cell_type": "code",
      "metadata": {
        "id": "gAE2P-sfemYs",
        "colab_type": "code",
        "colab": {}
      },
      "source": [
        ""
      ],
      "execution_count": 0,
      "outputs": []
    },
    {
      "cell_type": "code",
      "metadata": {
        "id": "FD7fDh3uemds",
        "colab_type": "code",
        "colab": {}
      },
      "source": [
        ""
      ],
      "execution_count": 0,
      "outputs": []
    },
    {
      "cell_type": "code",
      "metadata": {
        "id": "J3ieUIQfemTB",
        "colab_type": "code",
        "colab": {}
      },
      "source": [
        ""
      ],
      "execution_count": 0,
      "outputs": []
    },
    {
      "cell_type": "code",
      "metadata": {
        "id": "AR9wkz0PemRI",
        "colab_type": "code",
        "colab": {}
      },
      "source": [
        ""
      ],
      "execution_count": 0,
      "outputs": []
    },
    {
      "cell_type": "code",
      "metadata": {
        "id": "iS70qxC2emPl",
        "colab_type": "code",
        "colab": {}
      },
      "source": [
        ""
      ],
      "execution_count": 0,
      "outputs": []
    },
    {
      "cell_type": "code",
      "metadata": {
        "id": "sZvxmgSFemNw",
        "colab_type": "code",
        "colab": {}
      },
      "source": [
        ""
      ],
      "execution_count": 0,
      "outputs": []
    },
    {
      "cell_type": "code",
      "metadata": {
        "id": "p-QqGUG9emLe",
        "colab_type": "code",
        "colab": {}
      },
      "source": [
        ""
      ],
      "execution_count": 0,
      "outputs": []
    },
    {
      "cell_type": "code",
      "metadata": {
        "id": "Pf0IQXqFemGr",
        "colab_type": "code",
        "colab": {}
      },
      "source": [
        ""
      ],
      "execution_count": 0,
      "outputs": []
    },
    {
      "cell_type": "code",
      "metadata": {
        "id": "bLG26jc-emEU",
        "colab_type": "code",
        "colab": {}
      },
      "source": [
        ""
      ],
      "execution_count": 0,
      "outputs": []
    },
    {
      "cell_type": "code",
      "metadata": {
        "id": "87mw9tngel-G",
        "colab_type": "code",
        "colab": {}
      },
      "source": [
        ""
      ],
      "execution_count": 0,
      "outputs": []
    },
    {
      "cell_type": "code",
      "metadata": {
        "id": "qCDlr-EGel71",
        "colab_type": "code",
        "colab": {}
      },
      "source": [
        ""
      ],
      "execution_count": 0,
      "outputs": []
    }
  ]
}